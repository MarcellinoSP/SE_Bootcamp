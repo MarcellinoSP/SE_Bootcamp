{
 "cells": [
  {
   "cell_type": "markdown",
   "metadata": {},
   "source": [
    "LINQ used to filter data (especially collection) in a faster way than using foreach/iteration. LINQ can be used for Database and collection. \n",
    "Collection: \n",
    "- Array\n",
    "- List\n",
    "- IEnumerable => Default data type for Class\n",
    "- IQueryable => Default data type for database"
   ]
  },
  {
   "cell_type": "markdown",
   "metadata": {},
   "source": [
    "Use query syntax for shorter and cleaner code"
   ]
  },
  {
   "cell_type": "code",
   "execution_count": 1,
   "metadata": {
    "dotnet_interactive": {
     "language": "csharp"
    },
    "polyglot_notebook": {
     "kernelName": "csharp"
    }
   },
   "outputs": [
    {
     "name": "stdout",
     "output_type": "stream",
     "text": [
      "Charlie\n",
      "Kalvin\n"
     ]
    }
   ],
   "source": [
    "string[] names = {\"Bari\", \"Kalvin\", \"Adam\", \"Charlie\"};\n",
    "\n",
    "names = names.OrderBy(n => n).Where(n => n.Length>5).ToArray();\n",
    "\n",
    "foreach(var x in names) {\n",
    "    Console.WriteLine(x);\n",
    "}"
   ]
  },
  {
   "cell_type": "markdown",
   "metadata": {},
   "source": [
    "For some dictionary:"
   ]
  },
  {
   "cell_type": "code",
   "execution_count": 5,
   "metadata": {
    "dotnet_interactive": {
     "language": "csharp"
    },
    "polyglot_notebook": {
     "kernelName": "csharp"
    }
   },
   "outputs": [
    {
     "name": "stdout",
     "output_type": "stream",
     "text": [
      "[5, Hello]\n",
      "[4, Nono]\n",
      "[3, Fucer]\n",
      "[2, Zein]\n"
     ]
    }
   ],
   "source": [
    "Dictionary <int, string> dictionary = new Dictionary <int, string>();\n",
    "dictionary.Add(5,\"Hello\");\n",
    "dictionary.Add(3,\"Fucer\");\n",
    "dictionary.Add(2,\"Zein\");\n",
    "dictionary.Add(4,\"Nono\");\n",
    "\n",
    "var query = dictionary.OrderByDescending(n => n.Key).ToDictionary(y => y.Key, y => y.Value);\n",
    "foreach(var i in query) {\n",
    "    Console.WriteLine(i);\n",
    "}"
   ]
  },
  {
   "cell_type": "markdown",
   "metadata": {},
   "source": [
    "SelectMany = breakdown all member inside a data. Example: if there is an array of strings with members {\"Member1\", \"Member2\"}, then the SelectMany will breakdown each char inside the array. In this example, we will try to breakdown all the char inside List <string>"
   ]
  },
  {
   "cell_type": "code",
   "execution_count": 11,
   "metadata": {
    "dotnet_interactive": {
     "language": "csharp"
    },
    "polyglot_notebook": {
     "kernelName": "csharp"
    }
   },
   "outputs": [
    {
     "name": "stdout",
     "output_type": "stream",
     "text": [
      "M a r c e l l i n o S u r y a P r a t a m a \n",
      "M a r c e l l i n o S u r y a P r a t a m a "
     ]
    }
   ],
   "source": [
    "List <string> nameList =new List <string>(){\"Marcellino\", \"Surya\", \"Pratama\" };\n",
    "           \n",
    "IEnumerable querySyntax = from str in nameList\n",
    "                                from ch in str\n",
    "                                select ch;\n",
    "foreach (char c in querySyntax)\n",
    "    {\n",
    "        Console.Write(c + \" \");\n",
    "    }\n",
    "Console.WriteLine();\n",
    "IEnumerable methodSyntax = nameList.SelectMany(c => c);\n",
    "foreach(char c in methodSyntax) \n",
    "{\n",
    "     Console.Write(c + \" \");\n",
    "}"
   ]
  },
  {
   "cell_type": "markdown",
   "metadata": {},
   "source": [
    "**WHERE**\n",
    "\n",
    "Return a member with specific data."
   ]
  },
  {
   "cell_type": "code",
   "execution_count": 12,
   "metadata": {
    "dotnet_interactive": {
     "language": "csharp"
    },
    "polyglot_notebook": {
     "kernelName": "csharp"
    }
   },
   "outputs": [
    {
     "name": "stdout",
     "output_type": "stream",
     "text": [
      "Dwight\r\n"
     ]
    }
   ],
   "source": [
    "string[] names ={ \"Michael\", \"Pam\", \"Jim\", \"Dwight\", \"Kinara\", \"Angela\", \"Kevin\", \"Toby\", \"Creed\" };\n",
    "IEnumerable filteredNameswithK = names.Where(name => name.StartsWith(\"D\"));\n",
    "foreach(var e in filteredNameswithK) {\n",
    "    Console.WriteLine(e);\n",
    "}"
   ]
  },
  {
   "cell_type": "markdown",
   "metadata": {},
   "source": [
    "**ORDER BY**\n",
    "\n",
    "Sorting entities inside a collection."
   ]
  },
  {
   "cell_type": "code",
   "execution_count": 13,
   "metadata": {
    "dotnet_interactive": {
     "language": "csharp"
    },
    "polyglot_notebook": {
     "kernelName": "csharp"
    }
   },
   "outputs": [
    {
     "name": "stdout",
     "output_type": "stream",
     "text": [
      "Pam\n",
      "Jim\n",
      "Toby\n",
      "Kevin\n",
      "Creed\n",
      "Dwight\n",
      "Kinara\n",
      "Angela\n",
      "Michael\n"
     ]
    }
   ],
   "source": [
    "string[] names ={ \"Michael\", \"Pam\", \"Jim\", \"Dwight\", \"Kinara\", \"Angela\", \"Kevin\", \"Toby\", \"Creed\" };\n",
    "IEnumerable filteredNameswithK = names.Where(name => name.Length > 2)\n",
    "                                            .OrderBy(name => name.Length);\n",
    "foreach(var e in filteredNameswithK) {\n",
    "    Console.WriteLine(e);\n",
    "}"
   ]
  },
  {
   "cell_type": "markdown",
   "metadata": {},
   "source": [
    "**THEN BY** \n",
    "Do sorting with different condition, especially after ORDER BY."
   ]
  },
  {
   "cell_type": "code",
   "execution_count": 14,
   "metadata": {
    "dotnet_interactive": {
     "language": "csharp"
    },
    "polyglot_notebook": {
     "kernelName": "csharp"
    }
   },
   "outputs": [
    {
     "name": "stdout",
     "output_type": "stream",
     "text": [
      "Creed\n",
      "Kevin\n",
      "Angela\n",
      "Dwight\n",
      "Kinara\n",
      "Michael\n"
     ]
    }
   ],
   "source": [
    "string[] names ={ \"Michael\", \"Pam\", \"Jim\", \"Dwight\", \"Kinara\", \"Angela\", \"Kevin\", \"Toby\", \"Creed\" };\n",
    "var query = names.Where(name => name.Length > 4)\n",
    "                .OrderBy(name => name.Length) //First order by length\n",
    "                .ThenBy(name => name); //And order the rest of the name member\n",
    "foreach(var e in query) {\n",
    "    Console.WriteLine(e);\n",
    "}"
   ]
  }
 ],
 "metadata": {
  "kernelspec": {
   "display_name": ".NET (C#)",
   "language": "C#",
   "name": ".net-csharp"
  },
  "language_info": {
   "name": "polyglot-notebook"
  },
  "polyglot_notebook": {
   "kernelInfo": {
    "defaultKernelName": "csharp",
    "items": [
     {
      "aliases": [],
      "languageName": "csharp",
      "name": "csharp"
     }
    ]
   }
  }
 },
 "nbformat": 4,
 "nbformat_minor": 2
}
